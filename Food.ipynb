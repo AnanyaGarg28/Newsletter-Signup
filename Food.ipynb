{
  "nbformat": 4,
  "nbformat_minor": 0,
  "metadata": {
    "colab": {
      "name": "Food.ipynb",
      "provenance": [],
      "authorship_tag": "ABX9TyPycsmWstHkx4hP8uB2r7rf",
      "include_colab_link": true
    },
    "kernelspec": {
      "name": "python3",
      "display_name": "Python 3"
    },
    "language_info": {
      "name": "python"
    }
  },
  "cells": [
    {
      "cell_type": "markdown",
      "metadata": {
        "id": "view-in-github",
        "colab_type": "text"
      },
      "source": [
        "<a href=\"https://colab.research.google.com/github/AnanyaGarg28/Newsletter-Signup/blob/master/Food.ipynb\" target=\"_parent\"><img src=\"https://colab.research.google.com/assets/colab-badge.svg\" alt=\"Open In Colab\"/></a>"
      ]
    },
    {
      "cell_type": "markdown",
      "source": [
        "\n",
        "> Implementing the recommender system for the Food Recipe dataset obtained from Food.com under the open source license.\n",
        "Happy recommending!\n",
        "\n",
        "\n"
      ],
      "metadata": {
        "id": "GC1LRHByCBps"
      }
    },
    {
      "cell_type": "code",
      "execution_count": null,
      "metadata": {
        "id": "AQnPocWT9QsO"
      },
      "outputs": [],
      "source": [
        "# This Python 3 environment comes with many helpful analytics libraries installed\n",
        "# It is defined by the kaggle/python Docker image: https://github.com/kaggle/docker-python\n",
        "# For example, here's several helpful packages to load\n",
        "\n",
        "import numpy as np # linear algebra\n",
        "import pandas as pd # data processing, CSV file I/O (e.g. pd.read_csv)"
      ]
    },
    {
      "cell_type": "code",
      "source": [
        "# Storing the recipes information into a pandas DataFrame titled 'recipes'\n",
        "recipes = pd.read_csv('recipes.csv', engine='python', error_bad_lines=False)"
      ],
      "metadata": {
        "id": "izSpzj-iGz8W"
      },
      "execution_count": null,
      "outputs": []
    },
    {
      "cell_type": "code",
      "source": [
        "recipes.info()"
      ],
      "metadata": {
        "colab": {
          "base_uri": "https://localhost:8080/"
        },
        "id": "zM2wemqyw_05",
        "outputId": "cdcd76f0-3ffe-4246-e54f-82cd4bdc7970"
      },
      "execution_count": 175,
      "outputs": [
        {
          "output_type": "stream",
          "name": "stdout",
          "text": [
            "<class 'pandas.core.frame.DataFrame'>\n",
            "RangeIndex: 5082 entries, 0 to 5081\n",
            "Data columns (total 28 columns):\n",
            " #   Column                      Non-Null Count  Dtype  \n",
            "---  ------                      --------------  -----  \n",
            " 0   RecipeId                    5082 non-null   int64  \n",
            " 1   Name                        5082 non-null   object \n",
            " 2   AuthorId                    5082 non-null   int64  \n",
            " 3   AuthorName                  5082 non-null   object \n",
            " 4   CookTime                    2295 non-null   object \n",
            " 5   PrepTime                    5082 non-null   object \n",
            " 6   TotalTime                   5082 non-null   object \n",
            " 7   DatePublished               5082 non-null   object \n",
            " 8   Description                 5076 non-null   object \n",
            " 9   Images                      5080 non-null   object \n",
            " 10  RecipeCategory              5080 non-null   object \n",
            " 11  Keywords                    4972 non-null   object \n",
            " 12  RecipeIngredientQuantities  5080 non-null   object \n",
            " 13  RecipeIngredientParts       5081 non-null   object \n",
            " 14  AggregatedRating            3673 non-null   float64\n",
            " 15  ReviewCount                 3744 non-null   float64\n",
            " 16  Calories                    5081 non-null   float64\n",
            " 17  FatContent                  5081 non-null   float64\n",
            " 18  SaturatedFatContent         5081 non-null   float64\n",
            " 19  CholesterolContent          5081 non-null   float64\n",
            " 20  SodiumContent               5081 non-null   float64\n",
            " 21  CarbohydrateContent         5081 non-null   float64\n",
            " 22  FiberContent                5081 non-null   float64\n",
            " 23  SugarContent                5081 non-null   float64\n",
            " 24  ProteinContent              5081 non-null   float64\n",
            " 25  RecipeServings              3662 non-null   float64\n",
            " 26  RecipeYield                 1524 non-null   object \n",
            " 27  RecipeInstructions          5081 non-null   object \n",
            "dtypes: float64(12), int64(2), object(14)\n",
            "memory usage: 1.1+ MB\n"
          ]
        }
      ]
    },
    {
      "cell_type": "code",
      "source": [
        "# Storing the reviews information into a pandas DataFrame titled 'reviews'\n",
        "reviews = pd.read_csv('reviews.csv', engine='python', error_bad_lines=False)"
      ],
      "metadata": {
        "id": "_fM0Cohu9ifS"
      },
      "execution_count": null,
      "outputs": []
    },
    {
      "cell_type": "code",
      "source": [
        "# Checking the column labels in recipes\n",
        "recipes.columns"
      ],
      "metadata": {
        "colab": {
          "base_uri": "https://localhost:8080/"
        },
        "id": "6-YTilGzHBDS",
        "outputId": "87bea8a3-f596-4af8-8536-4bf3f205ddcf"
      },
      "execution_count": 176,
      "outputs": [
        {
          "output_type": "execute_result",
          "data": {
            "text/plain": [
              "Index(['RecipeId', 'Name', 'AuthorId', 'AuthorName', 'CookTime', 'PrepTime',\n",
              "       'TotalTime', 'DatePublished', 'Description', 'Images', 'RecipeCategory',\n",
              "       'Keywords', 'RecipeIngredientQuantities', 'RecipeIngredientParts',\n",
              "       'AggregatedRating', 'ReviewCount', 'Calories', 'FatContent',\n",
              "       'SaturatedFatContent', 'CholesterolContent', 'SodiumContent',\n",
              "       'CarbohydrateContent', 'FiberContent', 'SugarContent', 'ProteinContent',\n",
              "       'RecipeServings', 'RecipeYield', 'RecipeInstructions'],\n",
              "      dtype='object')"
            ]
          },
          "metadata": {},
          "execution_count": 176
        }
      ]
    },
    {
      "cell_type": "code",
      "source": [
        "# Printing a summary of the data in recipes data\n",
        "# .describe() gives the statistics of the numerical data \n",
        "recipes.describe()"
      ],
      "metadata": {
        "colab": {
          "base_uri": "https://localhost:8080/",
          "height": 364
        },
        "id": "dfrrT4shHIRd",
        "outputId": "734590b3-a910-40ba-cf88-39bdf269699e"
      },
      "execution_count": 179,
      "outputs": [
        {
          "output_type": "execute_result",
          "data": {
            "text/plain": [
              "          RecipeId       AuthorId  AggregatedRating  ReviewCount  \\\n",
              "count  5082.000000    5082.000000       3673.000000  3744.000000   \n",
              "mean   4189.896301   28042.254427          4.480942     9.718750   \n",
              "std    2325.943792   48535.088648          0.734993    47.358747   \n",
              "min      38.000000      27.000000          1.000000     1.000000   \n",
              "25%    2707.250000    1539.000000          4.000000     1.000000   \n",
              "50%    4105.500000    1737.000000          5.000000     3.000000   \n",
              "75%    6573.750000   37036.000000          5.000000     7.000000   \n",
              "max    8003.000000  451242.000000          5.000000  2273.000000   \n",
              "\n",
              "           Calories   FatContent  SaturatedFatContent  CholesterolContent  \\\n",
              "count   5081.000000  5081.000000          5081.000000         5081.000000   \n",
              "mean     767.502342    38.318658            15.406672          131.958925   \n",
              "std     1353.402656    81.091456            35.127210          300.127689   \n",
              "min        0.000000     0.000000             0.000000            0.000000   \n",
              "25%      180.700000     5.600000             1.600000            6.100000   \n",
              "50%      353.400000    14.900000             5.500000           50.300000   \n",
              "75%      690.800000    34.300000            13.800000          126.900000   \n",
              "max    25248.700000  2128.500000           714.200000         7517.100000   \n",
              "\n",
              "       SodiumContent  CarbohydrateContent  FiberContent  SugarContent  \\\n",
              "count    5081.000000          5081.000000   5081.000000   5081.000000   \n",
              "mean     1075.100866            84.459162      5.410333     45.516198   \n",
              "std      5606.761560           198.291245     11.789561    157.323184   \n",
              "min         0.000000             0.000000      0.000000      0.000000   \n",
              "25%       136.400000            13.400000      0.800000      2.600000   \n",
              "50%       369.800000            31.500000      2.100000      8.700000   \n",
              "75%       906.800000            64.400000      4.900000     28.200000   \n",
              "max    349356.400000          5030.700000    301.300000   4570.900000   \n",
              "\n",
              "       ProteinContent  RecipeServings  \n",
              "count     5081.000000     3662.000000  \n",
              "mean        23.255481        7.909066  \n",
              "std         46.631400       12.641861  \n",
              "min          0.000000        1.000000  \n",
              "25%          3.600000        4.000000  \n",
              "50%          8.900000        6.000000  \n",
              "75%         26.400000        8.000000  \n",
              "max       1122.600000      480.000000  "
            ],
            "text/html": [
              "\n",
              "  <div id=\"df-d6586834-7103-41f1-99e5-f7231ded0443\">\n",
              "    <div class=\"colab-df-container\">\n",
              "      <div>\n",
              "<style scoped>\n",
              "    .dataframe tbody tr th:only-of-type {\n",
              "        vertical-align: middle;\n",
              "    }\n",
              "\n",
              "    .dataframe tbody tr th {\n",
              "        vertical-align: top;\n",
              "    }\n",
              "\n",
              "    .dataframe thead th {\n",
              "        text-align: right;\n",
              "    }\n",
              "</style>\n",
              "<table border=\"1\" class=\"dataframe\">\n",
              "  <thead>\n",
              "    <tr style=\"text-align: right;\">\n",
              "      <th></th>\n",
              "      <th>RecipeId</th>\n",
              "      <th>AuthorId</th>\n",
              "      <th>AggregatedRating</th>\n",
              "      <th>ReviewCount</th>\n",
              "      <th>Calories</th>\n",
              "      <th>FatContent</th>\n",
              "      <th>SaturatedFatContent</th>\n",
              "      <th>CholesterolContent</th>\n",
              "      <th>SodiumContent</th>\n",
              "      <th>CarbohydrateContent</th>\n",
              "      <th>FiberContent</th>\n",
              "      <th>SugarContent</th>\n",
              "      <th>ProteinContent</th>\n",
              "      <th>RecipeServings</th>\n",
              "    </tr>\n",
              "  </thead>\n",
              "  <tbody>\n",
              "    <tr>\n",
              "      <th>count</th>\n",
              "      <td>5082.000000</td>\n",
              "      <td>5082.000000</td>\n",
              "      <td>3673.000000</td>\n",
              "      <td>3744.000000</td>\n",
              "      <td>5081.000000</td>\n",
              "      <td>5081.000000</td>\n",
              "      <td>5081.000000</td>\n",
              "      <td>5081.000000</td>\n",
              "      <td>5081.000000</td>\n",
              "      <td>5081.000000</td>\n",
              "      <td>5081.000000</td>\n",
              "      <td>5081.000000</td>\n",
              "      <td>5081.000000</td>\n",
              "      <td>3662.000000</td>\n",
              "    </tr>\n",
              "    <tr>\n",
              "      <th>mean</th>\n",
              "      <td>4189.896301</td>\n",
              "      <td>28042.254427</td>\n",
              "      <td>4.480942</td>\n",
              "      <td>9.718750</td>\n",
              "      <td>767.502342</td>\n",
              "      <td>38.318658</td>\n",
              "      <td>15.406672</td>\n",
              "      <td>131.958925</td>\n",
              "      <td>1075.100866</td>\n",
              "      <td>84.459162</td>\n",
              "      <td>5.410333</td>\n",
              "      <td>45.516198</td>\n",
              "      <td>23.255481</td>\n",
              "      <td>7.909066</td>\n",
              "    </tr>\n",
              "    <tr>\n",
              "      <th>std</th>\n",
              "      <td>2325.943792</td>\n",
              "      <td>48535.088648</td>\n",
              "      <td>0.734993</td>\n",
              "      <td>47.358747</td>\n",
              "      <td>1353.402656</td>\n",
              "      <td>81.091456</td>\n",
              "      <td>35.127210</td>\n",
              "      <td>300.127689</td>\n",
              "      <td>5606.761560</td>\n",
              "      <td>198.291245</td>\n",
              "      <td>11.789561</td>\n",
              "      <td>157.323184</td>\n",
              "      <td>46.631400</td>\n",
              "      <td>12.641861</td>\n",
              "    </tr>\n",
              "    <tr>\n",
              "      <th>min</th>\n",
              "      <td>38.000000</td>\n",
              "      <td>27.000000</td>\n",
              "      <td>1.000000</td>\n",
              "      <td>1.000000</td>\n",
              "      <td>0.000000</td>\n",
              "      <td>0.000000</td>\n",
              "      <td>0.000000</td>\n",
              "      <td>0.000000</td>\n",
              "      <td>0.000000</td>\n",
              "      <td>0.000000</td>\n",
              "      <td>0.000000</td>\n",
              "      <td>0.000000</td>\n",
              "      <td>0.000000</td>\n",
              "      <td>1.000000</td>\n",
              "    </tr>\n",
              "    <tr>\n",
              "      <th>25%</th>\n",
              "      <td>2707.250000</td>\n",
              "      <td>1539.000000</td>\n",
              "      <td>4.000000</td>\n",
              "      <td>1.000000</td>\n",
              "      <td>180.700000</td>\n",
              "      <td>5.600000</td>\n",
              "      <td>1.600000</td>\n",
              "      <td>6.100000</td>\n",
              "      <td>136.400000</td>\n",
              "      <td>13.400000</td>\n",
              "      <td>0.800000</td>\n",
              "      <td>2.600000</td>\n",
              "      <td>3.600000</td>\n",
              "      <td>4.000000</td>\n",
              "    </tr>\n",
              "    <tr>\n",
              "      <th>50%</th>\n",
              "      <td>4105.500000</td>\n",
              "      <td>1737.000000</td>\n",
              "      <td>5.000000</td>\n",
              "      <td>3.000000</td>\n",
              "      <td>353.400000</td>\n",
              "      <td>14.900000</td>\n",
              "      <td>5.500000</td>\n",
              "      <td>50.300000</td>\n",
              "      <td>369.800000</td>\n",
              "      <td>31.500000</td>\n",
              "      <td>2.100000</td>\n",
              "      <td>8.700000</td>\n",
              "      <td>8.900000</td>\n",
              "      <td>6.000000</td>\n",
              "    </tr>\n",
              "    <tr>\n",
              "      <th>75%</th>\n",
              "      <td>6573.750000</td>\n",
              "      <td>37036.000000</td>\n",
              "      <td>5.000000</td>\n",
              "      <td>7.000000</td>\n",
              "      <td>690.800000</td>\n",
              "      <td>34.300000</td>\n",
              "      <td>13.800000</td>\n",
              "      <td>126.900000</td>\n",
              "      <td>906.800000</td>\n",
              "      <td>64.400000</td>\n",
              "      <td>4.900000</td>\n",
              "      <td>28.200000</td>\n",
              "      <td>26.400000</td>\n",
              "      <td>8.000000</td>\n",
              "    </tr>\n",
              "    <tr>\n",
              "      <th>max</th>\n",
              "      <td>8003.000000</td>\n",
              "      <td>451242.000000</td>\n",
              "      <td>5.000000</td>\n",
              "      <td>2273.000000</td>\n",
              "      <td>25248.700000</td>\n",
              "      <td>2128.500000</td>\n",
              "      <td>714.200000</td>\n",
              "      <td>7517.100000</td>\n",
              "      <td>349356.400000</td>\n",
              "      <td>5030.700000</td>\n",
              "      <td>301.300000</td>\n",
              "      <td>4570.900000</td>\n",
              "      <td>1122.600000</td>\n",
              "      <td>480.000000</td>\n",
              "    </tr>\n",
              "  </tbody>\n",
              "</table>\n",
              "</div>\n",
              "      <button class=\"colab-df-convert\" onclick=\"convertToInteractive('df-d6586834-7103-41f1-99e5-f7231ded0443')\"\n",
              "              title=\"Convert this dataframe to an interactive table.\"\n",
              "              style=\"display:none;\">\n",
              "        \n",
              "  <svg xmlns=\"http://www.w3.org/2000/svg\" height=\"24px\"viewBox=\"0 0 24 24\"\n",
              "       width=\"24px\">\n",
              "    <path d=\"M0 0h24v24H0V0z\" fill=\"none\"/>\n",
              "    <path d=\"M18.56 5.44l.94 2.06.94-2.06 2.06-.94-2.06-.94-.94-2.06-.94 2.06-2.06.94zm-11 1L8.5 8.5l.94-2.06 2.06-.94-2.06-.94L8.5 2.5l-.94 2.06-2.06.94zm10 10l.94 2.06.94-2.06 2.06-.94-2.06-.94-.94-2.06-.94 2.06-2.06.94z\"/><path d=\"M17.41 7.96l-1.37-1.37c-.4-.4-.92-.59-1.43-.59-.52 0-1.04.2-1.43.59L10.3 9.45l-7.72 7.72c-.78.78-.78 2.05 0 2.83L4 21.41c.39.39.9.59 1.41.59.51 0 1.02-.2 1.41-.59l7.78-7.78 2.81-2.81c.8-.78.8-2.07 0-2.86zM5.41 20L4 18.59l7.72-7.72 1.47 1.35L5.41 20z\"/>\n",
              "  </svg>\n",
              "      </button>\n",
              "      \n",
              "  <style>\n",
              "    .colab-df-container {\n",
              "      display:flex;\n",
              "      flex-wrap:wrap;\n",
              "      gap: 12px;\n",
              "    }\n",
              "\n",
              "    .colab-df-convert {\n",
              "      background-color: #E8F0FE;\n",
              "      border: none;\n",
              "      border-radius: 50%;\n",
              "      cursor: pointer;\n",
              "      display: none;\n",
              "      fill: #1967D2;\n",
              "      height: 32px;\n",
              "      padding: 0 0 0 0;\n",
              "      width: 32px;\n",
              "    }\n",
              "\n",
              "    .colab-df-convert:hover {\n",
              "      background-color: #E2EBFA;\n",
              "      box-shadow: 0px 1px 2px rgba(60, 64, 67, 0.3), 0px 1px 3px 1px rgba(60, 64, 67, 0.15);\n",
              "      fill: #174EA6;\n",
              "    }\n",
              "\n",
              "    [theme=dark] .colab-df-convert {\n",
              "      background-color: #3B4455;\n",
              "      fill: #D2E3FC;\n",
              "    }\n",
              "\n",
              "    [theme=dark] .colab-df-convert:hover {\n",
              "      background-color: #434B5C;\n",
              "      box-shadow: 0px 1px 3px 1px rgba(0, 0, 0, 0.15);\n",
              "      filter: drop-shadow(0px 1px 2px rgba(0, 0, 0, 0.3));\n",
              "      fill: #FFFFFF;\n",
              "    }\n",
              "  </style>\n",
              "\n",
              "      <script>\n",
              "        const buttonEl =\n",
              "          document.querySelector('#df-d6586834-7103-41f1-99e5-f7231ded0443 button.colab-df-convert');\n",
              "        buttonEl.style.display =\n",
              "          google.colab.kernel.accessAllowed ? 'block' : 'none';\n",
              "\n",
              "        async function convertToInteractive(key) {\n",
              "          const element = document.querySelector('#df-d6586834-7103-41f1-99e5-f7231ded0443');\n",
              "          const dataTable =\n",
              "            await google.colab.kernel.invokeFunction('convertToInteractive',\n",
              "                                                     [key], {});\n",
              "          if (!dataTable) return;\n",
              "\n",
              "          const docLinkHtml = 'Like what you see? Visit the ' +\n",
              "            '<a target=\"_blank\" href=https://colab.research.google.com/notebooks/data_table.ipynb>data table notebook</a>'\n",
              "            + ' to learn more about interactive tables.';\n",
              "          element.innerHTML = '';\n",
              "          dataTable['output_type'] = 'display_data';\n",
              "          await google.colab.output.renderOutput(dataTable, element);\n",
              "          const docLink = document.createElement('div');\n",
              "          docLink.innerHTML = docLinkHtml;\n",
              "          element.appendChild(docLink);\n",
              "        }\n",
              "      </script>\n",
              "    </div>\n",
              "  </div>\n",
              "  "
            ]
          },
          "metadata": {},
          "execution_count": 179
        }
      ]
    },
    {
      "cell_type": "markdown",
      "source": [
        "On having a closer look at the column labels, we find that the columns with 'CookTime', 'PrepTime', and 'TotalTime' do not show up in the describe result. Let's try having an overview of the data(not just numerical)."
      ],
      "metadata": {
        "id": "1PKwzdF9Hl1w"
      }
    },
    {
      "cell_type": "code",
      "source": [
        "# 1st Recipe's Data\n",
        "recipes.loc[0]"
      ],
      "metadata": {
        "colab": {
          "base_uri": "https://localhost:8080/"
        },
        "id": "JjqzpuvtJ3PJ",
        "outputId": "7b329434-7928-476d-af3c-48e4bcdde452"
      },
      "execution_count": 178,
      "outputs": [
        {
          "output_type": "execute_result",
          "data": {
            "text/plain": [
              "RecipeId                                                                     38\n",
              "Name                                          Low-Fat Berry Blue Frozen Dessert\n",
              "AuthorId                                                                   1533\n",
              "AuthorName                                                               Dancer\n",
              "CookTime                                                                  PT24H\n",
              "PrepTime                                                                  PT45M\n",
              "TotalTime                                                              PT24H45M\n",
              "DatePublished                                              1999-08-09T21:46:00Z\n",
              "Description                   Make and share this Low-Fat Berry Blue Frozen ...\n",
              "Images                        c(\"https://img.sndimg.com/food/image/upload/w_...\n",
              "RecipeCategory                                                  Frozen Desserts\n",
              "Keywords                      c(\"Dessert\", \"Low Protein\", \"Low Cholesterol\",...\n",
              "RecipeIngredientQuantities                              c(\"4\", \"1/4\", \"1\", \"1\")\n",
              "RecipeIngredientParts         c(\"blueberries\", \"granulated sugar\", \"vanilla ...\n",
              "AggregatedRating                                                            4.5\n",
              "ReviewCount                                                                 4.0\n",
              "Calories                                                                  170.9\n",
              "FatContent                                                                  2.5\n",
              "SaturatedFatContent                                                         1.3\n",
              "CholesterolContent                                                          8.0\n",
              "SodiumContent                                                              29.8\n",
              "CarbohydrateContent                                                        37.1\n",
              "FiberContent                                                                3.6\n",
              "SugarContent                                                               30.2\n",
              "ProteinContent                                                              3.2\n",
              "RecipeServings                                                              4.0\n",
              "RecipeYield                                                                 NaN\n",
              "RecipeInstructions            c(\"Toss 2 cups berries with sugar.\", \"Let stan...\n",
              "Name: 0, dtype: object"
            ]
          },
          "metadata": {},
          "execution_count": 178
        }
      ]
    },
    {
      "cell_type": "markdown",
      "source": [
        "The columns with labels - 'CookTime', 'PrepTime', 'TotalTime', 'Images', 'RecipeInstructions', etc. We need to parse the csv file into R to have the data look better. Parsing the recipe.csv file into R:"
      ],
      "metadata": {
        "id": "PmwcaevcIUNc"
      }
    },
    {
      "cell_type": "code",
      "source": [
        "# precipes = pd.read_parquet('recipes.parquet').to_csv('parsedrecipes.csv')"
      ],
      "metadata": {
        "id": "qcIzRWsxKn7n"
      },
      "execution_count": null,
      "outputs": []
    },
    {
      "cell_type": "code",
      "source": [
        "# import pyarrow.parquet as pq\n",
        "# parquet_file = pq.ParquetFile('recipes.parquet')"
      ],
      "metadata": {
        "id": "wboyspPGMPkJ"
      },
      "execution_count": null,
      "outputs": []
    },
    {
      "cell_type": "markdown",
      "source": [
        "The parquet file seems to have an error. Nevertheless, we can omit such datavalues for the time being and proceed with other things. The time values are given in ISO 8601 duration format. To read them in R,\n",
        "\n",
        "> library(lubridate)\n",
        "  duration(\"PT24H45M\")\n",
        "######\"89100s (~1.03 days)\"\n",
        "\n",
        "Similary, for the values, the following library can be used to parse the data in R,\n",
        "\n",
        "> library(readr) recipes <- read_csv(\"recipes.csv\")\n",
        "\n",
        "\n",
        "\n"
      ],
      "metadata": {
        "id": "5phXwRePOR7a"
      }
    },
    {
      "cell_type": "code",
      "source": [
        "# We can still make sense out of this data here. It just needs some formatting. \n",
        "recipes.loc[0].RecipeInstructions"
      ],
      "metadata": {
        "colab": {
          "base_uri": "https://localhost:8080/",
          "height": 105
        },
        "id": "KROR7z8MLN0F",
        "outputId": "c2886e5b-ceb3-496a-fe6a-093aee28d9c8"
      },
      "execution_count": null,
      "outputs": [
        {
          "output_type": "execute_result",
          "data": {
            "text/plain": [
              "'c(\"Toss 2 cups berries with sugar.\", \"Let stand for 45 minutes, stirring occasionally.\", \"Transfer berry-sugar mixture to food processor.\", \"Add yogurt and process until smooth.\", \"Strain through fine sieve. Pour into baking pan (or transfer to ice cream maker and process according to manufacturers\\' directions). Freeze uncovered until edges are solid but centre is soft.  Transfer to processor and blend until smooth again.\", \"Return to pan and freeze until edges are solid.\", \"Transfer to processor and blend until smooth again.\", \\n\"Fold in remaining 2 cups of blueberries.\", \"Pour into plastic mold and freeze overnight. Let soften slightly to serve.\")'"
            ],
            "application/vnd.google.colaboratory.intrinsic+json": {
              "type": "string"
            }
          },
          "metadata": {},
          "execution_count": 135
        }
      ]
    },
    {
      "cell_type": "code",
      "source": [
        "# But before diving into Data Pre-processing, we can make sure that we get rid of the data we do not need. So, let's filter it out.\n",
        "# Checking columns in recipes DataFrame\n",
        "recipes.columns"
      ],
      "metadata": {
        "colab": {
          "base_uri": "https://localhost:8080/"
        },
        "id": "AMEktzm-Rl8D",
        "outputId": "28581edf-30b9-4090-e859-4580e8f60fdb"
      },
      "execution_count": null,
      "outputs": [
        {
          "output_type": "execute_result",
          "data": {
            "text/plain": [
              "Index(['RecipeId', 'Name', 'AuthorId', 'AuthorName', 'CookTime', 'PrepTime',\n",
              "       'TotalTime', 'DatePublished', 'Description', 'Images', 'RecipeCategory',\n",
              "       'Keywords', 'RecipeIngredientQuantities', 'RecipeIngredientParts',\n",
              "       'AggregatedRating', 'ReviewCount', 'Calories', 'FatContent',\n",
              "       'SaturatedFatContent', 'CholesterolContent', 'SodiumContent',\n",
              "       'CarbohydrateContent', 'FiberContent', 'SugarContent', 'ProteinContent',\n",
              "       'RecipeServings', 'RecipeYield', 'RecipeInstructions'],\n",
              "      dtype='object')"
            ]
          },
          "metadata": {},
          "execution_count": 136
        }
      ]
    },
    {
      "cell_type": "code",
      "source": [
        "# Getting rid of the nutritional information for the basic recommendation model initially. We can take it into account a little later when our model is ready.\n",
        "recipes = recipes[['RecipeId', 'Name', 'AuthorId', 'AuthorName', \n",
        "                   'CookTime', 'PrepTime', 'Description', 'Images', \n",
        "                   'RecipeCategory', 'Keywords', 'RecipeIngredientQuantities', 'RecipeIngredientParts', \n",
        "                   'AggregatedRating', 'ReviewCount', 'RecipeServings', 'RecipeInstructions']]"
      ],
      "metadata": {
        "id": "5lxSEywaRgd0"
      },
      "execution_count": null,
      "outputs": []
    },
    {
      "cell_type": "code",
      "source": [
        "recipes.shape"
      ],
      "metadata": {
        "colab": {
          "base_uri": "https://localhost:8080/"
        },
        "id": "bBUWzDkeTbMk",
        "outputId": "1d19493d-0c67-49e4-c70e-64614cf3008f"
      },
      "execution_count": null,
      "outputs": [
        {
          "output_type": "execute_result",
          "data": {
            "text/plain": [
              "(522517, 16)"
            ]
          },
          "metadata": {},
          "execution_count": 138
        }
      ]
    },
    {
      "cell_type": "code",
      "source": [
        "recipes.loc[0]"
      ],
      "metadata": {
        "colab": {
          "base_uri": "https://localhost:8080/"
        },
        "id": "d64PDZVwTg6t",
        "outputId": "8f9657a6-1232-44ff-a2f8-df03d16dd375"
      },
      "execution_count": null,
      "outputs": [
        {
          "output_type": "execute_result",
          "data": {
            "text/plain": [
              "RecipeId                                                                     38\n",
              "Name                                          Low-Fat Berry Blue Frozen Dessert\n",
              "AuthorId                                                                   1533\n",
              "AuthorName                                                               Dancer\n",
              "CookTime                                                                  PT24H\n",
              "PrepTime                                                                  PT45M\n",
              "Description                   Make and share this Low-Fat Berry Blue Frozen ...\n",
              "Images                        c(\"https://img.sndimg.com/food/image/upload/w_...\n",
              "RecipeCategory                                                  Frozen Desserts\n",
              "Keywords                      c(\"Dessert\", \"Low Protein\", \"Low Cholesterol\",...\n",
              "RecipeIngredientQuantities                              c(\"4\", \"1/4\", \"1\", \"1\")\n",
              "RecipeIngredientParts         c(\"blueberries\", \"granulated sugar\", \"vanilla ...\n",
              "AggregatedRating                                                            4.5\n",
              "ReviewCount                                                                 4.0\n",
              "RecipeServings                                                              4.0\n",
              "RecipeInstructions            c(\"Toss 2 cups berries with sugar.\", \"Let stan...\n",
              "Name: 0, dtype: object"
            ]
          },
          "metadata": {},
          "execution_count": 139
        }
      ]
    },
    {
      "cell_type": "code",
      "source": [
        "recipes.loc[0]['RecipeIngredientParts']"
      ],
      "metadata": {
        "colab": {
          "base_uri": "https://localhost:8080/",
          "height": 36
        },
        "id": "Bgzc2uD3TvJy",
        "outputId": "5113f11c-7b14-4dd6-c38a-ec3be2d08176"
      },
      "execution_count": null,
      "outputs": [
        {
          "output_type": "execute_result",
          "data": {
            "text/plain": [
              "'c(\"blueberries\", \"granulated sugar\", \"vanilla yogurt\", \"lemon juice\")'"
            ],
            "application/vnd.google.colaboratory.intrinsic+json": {
              "type": "string"
            }
          },
          "metadata": {},
          "execution_count": 140
        }
      ]
    },
    {
      "cell_type": "code",
      "source": [
        "# RecipeIngredientQuantities are as many as the RecipeIngredientParts with each ingredient's quantity described with respect to the 1st Ingredient mentioned and is in ratio-part formatting\n",
        "# For ex, if we take 400 gms of blueberries, then granulated sugar should be 1/16th of 400gms which is 25gms\n",
        "# And vanilla yogurt and lemon juice should be 1/4th of 400gms which is 100gms each.\n",
        "recipes.loc[0]['RecipeIngredientQuantities']"
      ],
      "metadata": {
        "colab": {
          "base_uri": "https://localhost:8080/",
          "height": 36
        },
        "id": "X0WNKp4hTyRP",
        "outputId": "ea603643-79fd-4356-8f1f-c20ff77f9aed"
      },
      "execution_count": null,
      "outputs": [
        {
          "output_type": "execute_result",
          "data": {
            "text/plain": [
              "'c(\"4\", \"1/4\", \"1\", \"1\")'"
            ],
            "application/vnd.google.colaboratory.intrinsic+json": {
              "type": "string"
            }
          },
          "metadata": {},
          "execution_count": 141
        }
      ]
    },
    {
      "cell_type": "code",
      "source": [
        "# Now that our recipes DataFrame is filtered, checking the column labels in reviews\n",
        "reviews.columns"
      ],
      "metadata": {
        "colab": {
          "base_uri": "https://localhost:8080/"
        },
        "id": "ga-e0Wlh_k5C",
        "outputId": "36b7855a-1a64-4bcd-9b03-6f01f39d0fa1"
      },
      "execution_count": null,
      "outputs": [
        {
          "output_type": "execute_result",
          "data": {
            "text/plain": [
              "Index(['ReviewId', 'RecipeId', 'AuthorId', 'AuthorName', 'Rating', 'Review',\n",
              "       'DateSubmitted', 'DateModified'],\n",
              "      dtype='object')"
            ]
          },
          "metadata": {},
          "execution_count": 89
        }
      ]
    },
    {
      "cell_type": "code",
      "source": [
        "# Printing a summary of the data in reviews data\n",
        "# .describe() gives the statistics of the numerical data \n",
        "reviews.describe()"
      ],
      "metadata": {
        "colab": {
          "base_uri": "https://localhost:8080/",
          "height": 300
        },
        "id": "350YvR3b_CtT",
        "outputId": "f0d9d32d-ae98-4750-f189-06a8ccec7446"
      },
      "execution_count": null,
      "outputs": [
        {
          "output_type": "execute_result",
          "data": {
            "text/plain": [
              "           ReviewId      RecipeId      AuthorId        Rating\n",
              "count  1.401982e+06  1.401982e+06  1.401982e+06  1.401982e+06\n",
              "mean   8.179739e+05  1.526412e+05  1.558638e+08  4.407951e+00\n",
              "std    5.280821e+05  1.301112e+05  5.305111e+08  1.272012e+00\n",
              "min    2.000000e+00  3.800000e+01  1.533000e+03  0.000000e+00\n",
              "25%    3.743862e+05  4.703875e+04  1.336800e+05  4.000000e+00\n",
              "50%    7.717805e+05  1.093270e+05  3.305450e+05  5.000000e+00\n",
              "75%    1.204126e+06  2.318768e+05  8.183590e+05  5.000000e+00\n",
              "max    2.090347e+06  5.412980e+05  2.002902e+09  5.000000e+00"
            ],
            "text/html": [
              "\n",
              "  <div id=\"df-e797ade9-3fe8-4027-8385-882e8109c10d\">\n",
              "    <div class=\"colab-df-container\">\n",
              "      <div>\n",
              "<style scoped>\n",
              "    .dataframe tbody tr th:only-of-type {\n",
              "        vertical-align: middle;\n",
              "    }\n",
              "\n",
              "    .dataframe tbody tr th {\n",
              "        vertical-align: top;\n",
              "    }\n",
              "\n",
              "    .dataframe thead th {\n",
              "        text-align: right;\n",
              "    }\n",
              "</style>\n",
              "<table border=\"1\" class=\"dataframe\">\n",
              "  <thead>\n",
              "    <tr style=\"text-align: right;\">\n",
              "      <th></th>\n",
              "      <th>ReviewId</th>\n",
              "      <th>RecipeId</th>\n",
              "      <th>AuthorId</th>\n",
              "      <th>Rating</th>\n",
              "    </tr>\n",
              "  </thead>\n",
              "  <tbody>\n",
              "    <tr>\n",
              "      <th>count</th>\n",
              "      <td>1.401982e+06</td>\n",
              "      <td>1.401982e+06</td>\n",
              "      <td>1.401982e+06</td>\n",
              "      <td>1.401982e+06</td>\n",
              "    </tr>\n",
              "    <tr>\n",
              "      <th>mean</th>\n",
              "      <td>8.179739e+05</td>\n",
              "      <td>1.526412e+05</td>\n",
              "      <td>1.558638e+08</td>\n",
              "      <td>4.407951e+00</td>\n",
              "    </tr>\n",
              "    <tr>\n",
              "      <th>std</th>\n",
              "      <td>5.280821e+05</td>\n",
              "      <td>1.301112e+05</td>\n",
              "      <td>5.305111e+08</td>\n",
              "      <td>1.272012e+00</td>\n",
              "    </tr>\n",
              "    <tr>\n",
              "      <th>min</th>\n",
              "      <td>2.000000e+00</td>\n",
              "      <td>3.800000e+01</td>\n",
              "      <td>1.533000e+03</td>\n",
              "      <td>0.000000e+00</td>\n",
              "    </tr>\n",
              "    <tr>\n",
              "      <th>25%</th>\n",
              "      <td>3.743862e+05</td>\n",
              "      <td>4.703875e+04</td>\n",
              "      <td>1.336800e+05</td>\n",
              "      <td>4.000000e+00</td>\n",
              "    </tr>\n",
              "    <tr>\n",
              "      <th>50%</th>\n",
              "      <td>7.717805e+05</td>\n",
              "      <td>1.093270e+05</td>\n",
              "      <td>3.305450e+05</td>\n",
              "      <td>5.000000e+00</td>\n",
              "    </tr>\n",
              "    <tr>\n",
              "      <th>75%</th>\n",
              "      <td>1.204126e+06</td>\n",
              "      <td>2.318768e+05</td>\n",
              "      <td>8.183590e+05</td>\n",
              "      <td>5.000000e+00</td>\n",
              "    </tr>\n",
              "    <tr>\n",
              "      <th>max</th>\n",
              "      <td>2.090347e+06</td>\n",
              "      <td>5.412980e+05</td>\n",
              "      <td>2.002902e+09</td>\n",
              "      <td>5.000000e+00</td>\n",
              "    </tr>\n",
              "  </tbody>\n",
              "</table>\n",
              "</div>\n",
              "      <button class=\"colab-df-convert\" onclick=\"convertToInteractive('df-e797ade9-3fe8-4027-8385-882e8109c10d')\"\n",
              "              title=\"Convert this dataframe to an interactive table.\"\n",
              "              style=\"display:none;\">\n",
              "        \n",
              "  <svg xmlns=\"http://www.w3.org/2000/svg\" height=\"24px\"viewBox=\"0 0 24 24\"\n",
              "       width=\"24px\">\n",
              "    <path d=\"M0 0h24v24H0V0z\" fill=\"none\"/>\n",
              "    <path d=\"M18.56 5.44l.94 2.06.94-2.06 2.06-.94-2.06-.94-.94-2.06-.94 2.06-2.06.94zm-11 1L8.5 8.5l.94-2.06 2.06-.94-2.06-.94L8.5 2.5l-.94 2.06-2.06.94zm10 10l.94 2.06.94-2.06 2.06-.94-2.06-.94-.94-2.06-.94 2.06-2.06.94z\"/><path d=\"M17.41 7.96l-1.37-1.37c-.4-.4-.92-.59-1.43-.59-.52 0-1.04.2-1.43.59L10.3 9.45l-7.72 7.72c-.78.78-.78 2.05 0 2.83L4 21.41c.39.39.9.59 1.41.59.51 0 1.02-.2 1.41-.59l7.78-7.78 2.81-2.81c.8-.78.8-2.07 0-2.86zM5.41 20L4 18.59l7.72-7.72 1.47 1.35L5.41 20z\"/>\n",
              "  </svg>\n",
              "      </button>\n",
              "      \n",
              "  <style>\n",
              "    .colab-df-container {\n",
              "      display:flex;\n",
              "      flex-wrap:wrap;\n",
              "      gap: 12px;\n",
              "    }\n",
              "\n",
              "    .colab-df-convert {\n",
              "      background-color: #E8F0FE;\n",
              "      border: none;\n",
              "      border-radius: 50%;\n",
              "      cursor: pointer;\n",
              "      display: none;\n",
              "      fill: #1967D2;\n",
              "      height: 32px;\n",
              "      padding: 0 0 0 0;\n",
              "      width: 32px;\n",
              "    }\n",
              "\n",
              "    .colab-df-convert:hover {\n",
              "      background-color: #E2EBFA;\n",
              "      box-shadow: 0px 1px 2px rgba(60, 64, 67, 0.3), 0px 1px 3px 1px rgba(60, 64, 67, 0.15);\n",
              "      fill: #174EA6;\n",
              "    }\n",
              "\n",
              "    [theme=dark] .colab-df-convert {\n",
              "      background-color: #3B4455;\n",
              "      fill: #D2E3FC;\n",
              "    }\n",
              "\n",
              "    [theme=dark] .colab-df-convert:hover {\n",
              "      background-color: #434B5C;\n",
              "      box-shadow: 0px 1px 3px 1px rgba(0, 0, 0, 0.15);\n",
              "      filter: drop-shadow(0px 1px 2px rgba(0, 0, 0, 0.3));\n",
              "      fill: #FFFFFF;\n",
              "    }\n",
              "  </style>\n",
              "\n",
              "      <script>\n",
              "        const buttonEl =\n",
              "          document.querySelector('#df-e797ade9-3fe8-4027-8385-882e8109c10d button.colab-df-convert');\n",
              "        buttonEl.style.display =\n",
              "          google.colab.kernel.accessAllowed ? 'block' : 'none';\n",
              "\n",
              "        async function convertToInteractive(key) {\n",
              "          const element = document.querySelector('#df-e797ade9-3fe8-4027-8385-882e8109c10d');\n",
              "          const dataTable =\n",
              "            await google.colab.kernel.invokeFunction('convertToInteractive',\n",
              "                                                     [key], {});\n",
              "          if (!dataTable) return;\n",
              "\n",
              "          const docLinkHtml = 'Like what you see? Visit the ' +\n",
              "            '<a target=\"_blank\" href=https://colab.research.google.com/notebooks/data_table.ipynb>data table notebook</a>'\n",
              "            + ' to learn more about interactive tables.';\n",
              "          element.innerHTML = '';\n",
              "          dataTable['output_type'] = 'display_data';\n",
              "          await google.colab.output.renderOutput(dataTable, element);\n",
              "          const docLink = document.createElement('div');\n",
              "          docLink.innerHTML = docLinkHtml;\n",
              "          element.appendChild(docLink);\n",
              "        }\n",
              "      </script>\n",
              "    </div>\n",
              "  </div>\n",
              "  "
            ]
          },
          "metadata": {},
          "execution_count": 90
        }
      ]
    },
    {
      "cell_type": "markdown",
      "source": [
        "The **count** shows how many rows have **non-missing values**. As all the columns have equal number of non-missing values, it shows that the data is consistent :)\n",
        "\n",
        "\n"
      ],
      "metadata": {
        "id": "zECr8aGiBIxA"
      }
    },
    {
      "cell_type": "code",
      "source": [
        "# Let's take a look at the overview of the reviews DataFrame\n",
        "reviews.head()"
      ],
      "metadata": {
        "colab": {
          "base_uri": "https://localhost:8080/",
          "height": 206
        },
        "id": "pCKb02TlBILs",
        "outputId": "6a6b353c-06e9-4b6b-a90b-04e4a5aa53c5"
      },
      "execution_count": null,
      "outputs": [
        {
          "output_type": "execute_result",
          "data": {
            "text/plain": [
              "   ReviewId  RecipeId  AuthorId        AuthorName  Rating  \\\n",
              "0         2       992      2008         gayg msft       5   \n",
              "1         7      4384      1634     Bill Hilbrich       4   \n",
              "2         9      4523      2046  Gay Gilmore ckpt       2   \n",
              "3        13      7435      1773     Malarkey Test       5   \n",
              "4        14        44      2085        Tony Small       5   \n",
              "\n",
              "                                              Review         DateSubmitted  \\\n",
              "0       better than any you can get at a restaurant!  2000-01-25T21:44:00Z   \n",
              "1  I cut back on the mayo, and made up the differ...  2001-10-17T16:49:59Z   \n",
              "2  i think i did something wrong because i could ...  2000-02-25T09:00:00Z   \n",
              "3  easily the best i have ever had.  juicy flavor...  2000-03-13T21:15:00Z   \n",
              "4                                 An excellent dish.  2000-03-28T12:51:00Z   \n",
              "\n",
              "           DateModified  \n",
              "0  2000-01-25T21:44:00Z  \n",
              "1  2001-10-17T16:49:59Z  \n",
              "2  2000-02-25T09:00:00Z  \n",
              "3  2000-03-13T21:15:00Z  \n",
              "4  2000-03-28T12:51:00Z  "
            ],
            "text/html": [
              "\n",
              "  <div id=\"df-d345c14e-8d9e-4b74-8b00-ef7ab056cbab\">\n",
              "    <div class=\"colab-df-container\">\n",
              "      <div>\n",
              "<style scoped>\n",
              "    .dataframe tbody tr th:only-of-type {\n",
              "        vertical-align: middle;\n",
              "    }\n",
              "\n",
              "    .dataframe tbody tr th {\n",
              "        vertical-align: top;\n",
              "    }\n",
              "\n",
              "    .dataframe thead th {\n",
              "        text-align: right;\n",
              "    }\n",
              "</style>\n",
              "<table border=\"1\" class=\"dataframe\">\n",
              "  <thead>\n",
              "    <tr style=\"text-align: right;\">\n",
              "      <th></th>\n",
              "      <th>ReviewId</th>\n",
              "      <th>RecipeId</th>\n",
              "      <th>AuthorId</th>\n",
              "      <th>AuthorName</th>\n",
              "      <th>Rating</th>\n",
              "      <th>Review</th>\n",
              "      <th>DateSubmitted</th>\n",
              "      <th>DateModified</th>\n",
              "    </tr>\n",
              "  </thead>\n",
              "  <tbody>\n",
              "    <tr>\n",
              "      <th>0</th>\n",
              "      <td>2</td>\n",
              "      <td>992</td>\n",
              "      <td>2008</td>\n",
              "      <td>gayg msft</td>\n",
              "      <td>5</td>\n",
              "      <td>better than any you can get at a restaurant!</td>\n",
              "      <td>2000-01-25T21:44:00Z</td>\n",
              "      <td>2000-01-25T21:44:00Z</td>\n",
              "    </tr>\n",
              "    <tr>\n",
              "      <th>1</th>\n",
              "      <td>7</td>\n",
              "      <td>4384</td>\n",
              "      <td>1634</td>\n",
              "      <td>Bill Hilbrich</td>\n",
              "      <td>4</td>\n",
              "      <td>I cut back on the mayo, and made up the differ...</td>\n",
              "      <td>2001-10-17T16:49:59Z</td>\n",
              "      <td>2001-10-17T16:49:59Z</td>\n",
              "    </tr>\n",
              "    <tr>\n",
              "      <th>2</th>\n",
              "      <td>9</td>\n",
              "      <td>4523</td>\n",
              "      <td>2046</td>\n",
              "      <td>Gay Gilmore ckpt</td>\n",
              "      <td>2</td>\n",
              "      <td>i think i did something wrong because i could ...</td>\n",
              "      <td>2000-02-25T09:00:00Z</td>\n",
              "      <td>2000-02-25T09:00:00Z</td>\n",
              "    </tr>\n",
              "    <tr>\n",
              "      <th>3</th>\n",
              "      <td>13</td>\n",
              "      <td>7435</td>\n",
              "      <td>1773</td>\n",
              "      <td>Malarkey Test</td>\n",
              "      <td>5</td>\n",
              "      <td>easily the best i have ever had.  juicy flavor...</td>\n",
              "      <td>2000-03-13T21:15:00Z</td>\n",
              "      <td>2000-03-13T21:15:00Z</td>\n",
              "    </tr>\n",
              "    <tr>\n",
              "      <th>4</th>\n",
              "      <td>14</td>\n",
              "      <td>44</td>\n",
              "      <td>2085</td>\n",
              "      <td>Tony Small</td>\n",
              "      <td>5</td>\n",
              "      <td>An excellent dish.</td>\n",
              "      <td>2000-03-28T12:51:00Z</td>\n",
              "      <td>2000-03-28T12:51:00Z</td>\n",
              "    </tr>\n",
              "  </tbody>\n",
              "</table>\n",
              "</div>\n",
              "      <button class=\"colab-df-convert\" onclick=\"convertToInteractive('df-d345c14e-8d9e-4b74-8b00-ef7ab056cbab')\"\n",
              "              title=\"Convert this dataframe to an interactive table.\"\n",
              "              style=\"display:none;\">\n",
              "        \n",
              "  <svg xmlns=\"http://www.w3.org/2000/svg\" height=\"24px\"viewBox=\"0 0 24 24\"\n",
              "       width=\"24px\">\n",
              "    <path d=\"M0 0h24v24H0V0z\" fill=\"none\"/>\n",
              "    <path d=\"M18.56 5.44l.94 2.06.94-2.06 2.06-.94-2.06-.94-.94-2.06-.94 2.06-2.06.94zm-11 1L8.5 8.5l.94-2.06 2.06-.94-2.06-.94L8.5 2.5l-.94 2.06-2.06.94zm10 10l.94 2.06.94-2.06 2.06-.94-2.06-.94-.94-2.06-.94 2.06-2.06.94z\"/><path d=\"M17.41 7.96l-1.37-1.37c-.4-.4-.92-.59-1.43-.59-.52 0-1.04.2-1.43.59L10.3 9.45l-7.72 7.72c-.78.78-.78 2.05 0 2.83L4 21.41c.39.39.9.59 1.41.59.51 0 1.02-.2 1.41-.59l7.78-7.78 2.81-2.81c.8-.78.8-2.07 0-2.86zM5.41 20L4 18.59l7.72-7.72 1.47 1.35L5.41 20z\"/>\n",
              "  </svg>\n",
              "      </button>\n",
              "      \n",
              "  <style>\n",
              "    .colab-df-container {\n",
              "      display:flex;\n",
              "      flex-wrap:wrap;\n",
              "      gap: 12px;\n",
              "    }\n",
              "\n",
              "    .colab-df-convert {\n",
              "      background-color: #E8F0FE;\n",
              "      border: none;\n",
              "      border-radius: 50%;\n",
              "      cursor: pointer;\n",
              "      display: none;\n",
              "      fill: #1967D2;\n",
              "      height: 32px;\n",
              "      padding: 0 0 0 0;\n",
              "      width: 32px;\n",
              "    }\n",
              "\n",
              "    .colab-df-convert:hover {\n",
              "      background-color: #E2EBFA;\n",
              "      box-shadow: 0px 1px 2px rgba(60, 64, 67, 0.3), 0px 1px 3px 1px rgba(60, 64, 67, 0.15);\n",
              "      fill: #174EA6;\n",
              "    }\n",
              "\n",
              "    [theme=dark] .colab-df-convert {\n",
              "      background-color: #3B4455;\n",
              "      fill: #D2E3FC;\n",
              "    }\n",
              "\n",
              "    [theme=dark] .colab-df-convert:hover {\n",
              "      background-color: #434B5C;\n",
              "      box-shadow: 0px 1px 3px 1px rgba(0, 0, 0, 0.15);\n",
              "      filter: drop-shadow(0px 1px 2px rgba(0, 0, 0, 0.3));\n",
              "      fill: #FFFFFF;\n",
              "    }\n",
              "  </style>\n",
              "\n",
              "      <script>\n",
              "        const buttonEl =\n",
              "          document.querySelector('#df-d345c14e-8d9e-4b74-8b00-ef7ab056cbab button.colab-df-convert');\n",
              "        buttonEl.style.display =\n",
              "          google.colab.kernel.accessAllowed ? 'block' : 'none';\n",
              "\n",
              "        async function convertToInteractive(key) {\n",
              "          const element = document.querySelector('#df-d345c14e-8d9e-4b74-8b00-ef7ab056cbab');\n",
              "          const dataTable =\n",
              "            await google.colab.kernel.invokeFunction('convertToInteractive',\n",
              "                                                     [key], {});\n",
              "          if (!dataTable) return;\n",
              "\n",
              "          const docLinkHtml = 'Like what you see? Visit the ' +\n",
              "            '<a target=\"_blank\" href=https://colab.research.google.com/notebooks/data_table.ipynb>data table notebook</a>'\n",
              "            + ' to learn more about interactive tables.';\n",
              "          element.innerHTML = '';\n",
              "          dataTable['output_type'] = 'display_data';\n",
              "          await google.colab.output.renderOutput(dataTable, element);\n",
              "          const docLink = document.createElement('div');\n",
              "          docLink.innerHTML = docLinkHtml;\n",
              "          element.appendChild(docLink);\n",
              "        }\n",
              "      </script>\n",
              "    </div>\n",
              "  </div>\n",
              "  "
            ]
          },
          "metadata": {},
          "execution_count": 91
        }
      ]
    },
    {
      "cell_type": "markdown",
      "source": [
        "Here, we have the first 5 rows from the reviews DataFrame. The 'date' format can be modified and could be truncated for the initial model. But as we delve into complex models, we can take it into account. "
      ],
      "metadata": {
        "id": "KbJDA971C3AN"
      }
    },
    {
      "cell_type": "code",
      "source": [
        "# Truncating the DateSubmitted and DateModified columns\n",
        "reviews=reviews[['ReviewId','RecipeId','AuthorId','AuthorName','Rating','Review']]"
      ],
      "metadata": {
        "id": "Eqxs8fU1BZGy"
      },
      "execution_count": null,
      "outputs": []
    },
    {
      "cell_type": "code",
      "source": [
        "reviews.head()"
      ],
      "metadata": {
        "colab": {
          "base_uri": "https://localhost:8080/",
          "height": 206
        },
        "id": "wrOgqTuwELTn",
        "outputId": "6620f2c3-7f14-42a9-9494-64f1a2994dff"
      },
      "execution_count": null,
      "outputs": [
        {
          "output_type": "execute_result",
          "data": {
            "text/plain": [
              "   ReviewId  RecipeId  AuthorId        AuthorName  Rating  \\\n",
              "0         2       992      2008         gayg msft       5   \n",
              "1         7      4384      1634     Bill Hilbrich       4   \n",
              "2         9      4523      2046  Gay Gilmore ckpt       2   \n",
              "3        13      7435      1773     Malarkey Test       5   \n",
              "4        14        44      2085        Tony Small       5   \n",
              "\n",
              "                                              Review  \n",
              "0       better than any you can get at a restaurant!  \n",
              "1  I cut back on the mayo, and made up the differ...  \n",
              "2  i think i did something wrong because i could ...  \n",
              "3  easily the best i have ever had.  juicy flavor...  \n",
              "4                                 An excellent dish.  "
            ],
            "text/html": [
              "\n",
              "  <div id=\"df-c250b005-7d06-41b5-a6a4-0a66a187f326\">\n",
              "    <div class=\"colab-df-container\">\n",
              "      <div>\n",
              "<style scoped>\n",
              "    .dataframe tbody tr th:only-of-type {\n",
              "        vertical-align: middle;\n",
              "    }\n",
              "\n",
              "    .dataframe tbody tr th {\n",
              "        vertical-align: top;\n",
              "    }\n",
              "\n",
              "    .dataframe thead th {\n",
              "        text-align: right;\n",
              "    }\n",
              "</style>\n",
              "<table border=\"1\" class=\"dataframe\">\n",
              "  <thead>\n",
              "    <tr style=\"text-align: right;\">\n",
              "      <th></th>\n",
              "      <th>ReviewId</th>\n",
              "      <th>RecipeId</th>\n",
              "      <th>AuthorId</th>\n",
              "      <th>AuthorName</th>\n",
              "      <th>Rating</th>\n",
              "      <th>Review</th>\n",
              "    </tr>\n",
              "  </thead>\n",
              "  <tbody>\n",
              "    <tr>\n",
              "      <th>0</th>\n",
              "      <td>2</td>\n",
              "      <td>992</td>\n",
              "      <td>2008</td>\n",
              "      <td>gayg msft</td>\n",
              "      <td>5</td>\n",
              "      <td>better than any you can get at a restaurant!</td>\n",
              "    </tr>\n",
              "    <tr>\n",
              "      <th>1</th>\n",
              "      <td>7</td>\n",
              "      <td>4384</td>\n",
              "      <td>1634</td>\n",
              "      <td>Bill Hilbrich</td>\n",
              "      <td>4</td>\n",
              "      <td>I cut back on the mayo, and made up the differ...</td>\n",
              "    </tr>\n",
              "    <tr>\n",
              "      <th>2</th>\n",
              "      <td>9</td>\n",
              "      <td>4523</td>\n",
              "      <td>2046</td>\n",
              "      <td>Gay Gilmore ckpt</td>\n",
              "      <td>2</td>\n",
              "      <td>i think i did something wrong because i could ...</td>\n",
              "    </tr>\n",
              "    <tr>\n",
              "      <th>3</th>\n",
              "      <td>13</td>\n",
              "      <td>7435</td>\n",
              "      <td>1773</td>\n",
              "      <td>Malarkey Test</td>\n",
              "      <td>5</td>\n",
              "      <td>easily the best i have ever had.  juicy flavor...</td>\n",
              "    </tr>\n",
              "    <tr>\n",
              "      <th>4</th>\n",
              "      <td>14</td>\n",
              "      <td>44</td>\n",
              "      <td>2085</td>\n",
              "      <td>Tony Small</td>\n",
              "      <td>5</td>\n",
              "      <td>An excellent dish.</td>\n",
              "    </tr>\n",
              "  </tbody>\n",
              "</table>\n",
              "</div>\n",
              "      <button class=\"colab-df-convert\" onclick=\"convertToInteractive('df-c250b005-7d06-41b5-a6a4-0a66a187f326')\"\n",
              "              title=\"Convert this dataframe to an interactive table.\"\n",
              "              style=\"display:none;\">\n",
              "        \n",
              "  <svg xmlns=\"http://www.w3.org/2000/svg\" height=\"24px\"viewBox=\"0 0 24 24\"\n",
              "       width=\"24px\">\n",
              "    <path d=\"M0 0h24v24H0V0z\" fill=\"none\"/>\n",
              "    <path d=\"M18.56 5.44l.94 2.06.94-2.06 2.06-.94-2.06-.94-.94-2.06-.94 2.06-2.06.94zm-11 1L8.5 8.5l.94-2.06 2.06-.94-2.06-.94L8.5 2.5l-.94 2.06-2.06.94zm10 10l.94 2.06.94-2.06 2.06-.94-2.06-.94-.94-2.06-.94 2.06-2.06.94z\"/><path d=\"M17.41 7.96l-1.37-1.37c-.4-.4-.92-.59-1.43-.59-.52 0-1.04.2-1.43.59L10.3 9.45l-7.72 7.72c-.78.78-.78 2.05 0 2.83L4 21.41c.39.39.9.59 1.41.59.51 0 1.02-.2 1.41-.59l7.78-7.78 2.81-2.81c.8-.78.8-2.07 0-2.86zM5.41 20L4 18.59l7.72-7.72 1.47 1.35L5.41 20z\"/>\n",
              "  </svg>\n",
              "      </button>\n",
              "      \n",
              "  <style>\n",
              "    .colab-df-container {\n",
              "      display:flex;\n",
              "      flex-wrap:wrap;\n",
              "      gap: 12px;\n",
              "    }\n",
              "\n",
              "    .colab-df-convert {\n",
              "      background-color: #E8F0FE;\n",
              "      border: none;\n",
              "      border-radius: 50%;\n",
              "      cursor: pointer;\n",
              "      display: none;\n",
              "      fill: #1967D2;\n",
              "      height: 32px;\n",
              "      padding: 0 0 0 0;\n",
              "      width: 32px;\n",
              "    }\n",
              "\n",
              "    .colab-df-convert:hover {\n",
              "      background-color: #E2EBFA;\n",
              "      box-shadow: 0px 1px 2px rgba(60, 64, 67, 0.3), 0px 1px 3px 1px rgba(60, 64, 67, 0.15);\n",
              "      fill: #174EA6;\n",
              "    }\n",
              "\n",
              "    [theme=dark] .colab-df-convert {\n",
              "      background-color: #3B4455;\n",
              "      fill: #D2E3FC;\n",
              "    }\n",
              "\n",
              "    [theme=dark] .colab-df-convert:hover {\n",
              "      background-color: #434B5C;\n",
              "      box-shadow: 0px 1px 3px 1px rgba(0, 0, 0, 0.15);\n",
              "      filter: drop-shadow(0px 1px 2px rgba(0, 0, 0, 0.3));\n",
              "      fill: #FFFFFF;\n",
              "    }\n",
              "  </style>\n",
              "\n",
              "      <script>\n",
              "        const buttonEl =\n",
              "          document.querySelector('#df-c250b005-7d06-41b5-a6a4-0a66a187f326 button.colab-df-convert');\n",
              "        buttonEl.style.display =\n",
              "          google.colab.kernel.accessAllowed ? 'block' : 'none';\n",
              "\n",
              "        async function convertToInteractive(key) {\n",
              "          const element = document.querySelector('#df-c250b005-7d06-41b5-a6a4-0a66a187f326');\n",
              "          const dataTable =\n",
              "            await google.colab.kernel.invokeFunction('convertToInteractive',\n",
              "                                                     [key], {});\n",
              "          if (!dataTable) return;\n",
              "\n",
              "          const docLinkHtml = 'Like what you see? Visit the ' +\n",
              "            '<a target=\"_blank\" href=https://colab.research.google.com/notebooks/data_table.ipynb>data table notebook</a>'\n",
              "            + ' to learn more about interactive tables.';\n",
              "          element.innerHTML = '';\n",
              "          dataTable['output_type'] = 'display_data';\n",
              "          await google.colab.output.renderOutput(dataTable, element);\n",
              "          const docLink = document.createElement('div');\n",
              "          docLink.innerHTML = docLinkHtml;\n",
              "          element.appendChild(docLink);\n",
              "        }\n",
              "      </script>\n",
              "    </div>\n",
              "  </div>\n",
              "  "
            ]
          },
          "metadata": {},
          "execution_count": 94
        }
      ]
    },
    {
      "cell_type": "code",
      "source": [
        "# Now, filtering is done. Let's have a look at both the filtered DataFrames\n",
        "recipes.head(2)"
      ],
      "metadata": {
        "colab": {
          "base_uri": "https://localhost:8080/",
          "height": 332
        },
        "id": "c12mFRHbFhBp",
        "outputId": "7dfdba10-94cb-468c-8856-c46ad638ddc2"
      },
      "execution_count": null,
      "outputs": [
        {
          "output_type": "execute_result",
          "data": {
            "text/plain": [
              "   RecipeId                               Name  AuthorId AuthorName CookTime  \\\n",
              "0        38  Low-Fat Berry Blue Frozen Dessert      1533     Dancer    PT24H   \n",
              "1        39                            Biryani      1567   elly9812    PT25M   \n",
              "\n",
              "  PrepTime                                        Description  \\\n",
              "0    PT45M  Make and share this Low-Fat Berry Blue Frozen ...   \n",
              "1     PT4H  Make and share this Biryani recipe from Food.com.   \n",
              "\n",
              "                                              Images   RecipeCategory  \\\n",
              "0  c(\"https://img.sndimg.com/food/image/upload/w_...  Frozen Desserts   \n",
              "1  c(\"https://img.sndimg.com/food/image/upload/w_...   Chicken Breast   \n",
              "\n",
              "                                            Keywords  \\\n",
              "0  c(\"Dessert\", \"Low Protein\", \"Low Cholesterol\",...   \n",
              "1  c(\"Chicken Thigh & Leg\", \"Chicken\", \"Poultry\",...   \n",
              "\n",
              "                          RecipeIngredientQuantities  \\\n",
              "0                            c(\"4\", \"1/4\", \"1\", \"1\")   \n",
              "1  c(\"1\", \"4\", \"2\", \"2\", \"8\", \"1/4\", \"8\", \"1/2\", ...   \n",
              "\n",
              "                               RecipeIngredientParts  AggregatedRating  \\\n",
              "0  c(\"blueberries\", \"granulated sugar\", \"vanilla ...               4.5   \n",
              "1  c(\"saffron\", \"milk\", \"hot green chili peppers\"...               3.0   \n",
              "\n",
              "   ReviewCount  RecipeServings  \\\n",
              "0          4.0             4.0   \n",
              "1          1.0             6.0   \n",
              "\n",
              "                                  RecipeInstructions  \n",
              "0  c(\"Toss 2 cups berries with sugar.\", \"Let stan...  \n",
              "1  c(\"Soak saffron in warm milk for 5 minutes and...  "
            ],
            "text/html": [
              "\n",
              "  <div id=\"df-c300599a-7d96-484c-be09-a93d35cf4b3c\">\n",
              "    <div class=\"colab-df-container\">\n",
              "      <div>\n",
              "<style scoped>\n",
              "    .dataframe tbody tr th:only-of-type {\n",
              "        vertical-align: middle;\n",
              "    }\n",
              "\n",
              "    .dataframe tbody tr th {\n",
              "        vertical-align: top;\n",
              "    }\n",
              "\n",
              "    .dataframe thead th {\n",
              "        text-align: right;\n",
              "    }\n",
              "</style>\n",
              "<table border=\"1\" class=\"dataframe\">\n",
              "  <thead>\n",
              "    <tr style=\"text-align: right;\">\n",
              "      <th></th>\n",
              "      <th>RecipeId</th>\n",
              "      <th>Name</th>\n",
              "      <th>AuthorId</th>\n",
              "      <th>AuthorName</th>\n",
              "      <th>CookTime</th>\n",
              "      <th>PrepTime</th>\n",
              "      <th>Description</th>\n",
              "      <th>Images</th>\n",
              "      <th>RecipeCategory</th>\n",
              "      <th>Keywords</th>\n",
              "      <th>RecipeIngredientQuantities</th>\n",
              "      <th>RecipeIngredientParts</th>\n",
              "      <th>AggregatedRating</th>\n",
              "      <th>ReviewCount</th>\n",
              "      <th>RecipeServings</th>\n",
              "      <th>RecipeInstructions</th>\n",
              "    </tr>\n",
              "  </thead>\n",
              "  <tbody>\n",
              "    <tr>\n",
              "      <th>0</th>\n",
              "      <td>38</td>\n",
              "      <td>Low-Fat Berry Blue Frozen Dessert</td>\n",
              "      <td>1533</td>\n",
              "      <td>Dancer</td>\n",
              "      <td>PT24H</td>\n",
              "      <td>PT45M</td>\n",
              "      <td>Make and share this Low-Fat Berry Blue Frozen ...</td>\n",
              "      <td>c(\"https://img.sndimg.com/food/image/upload/w_...</td>\n",
              "      <td>Frozen Desserts</td>\n",
              "      <td>c(\"Dessert\", \"Low Protein\", \"Low Cholesterol\",...</td>\n",
              "      <td>c(\"4\", \"1/4\", \"1\", \"1\")</td>\n",
              "      <td>c(\"blueberries\", \"granulated sugar\", \"vanilla ...</td>\n",
              "      <td>4.5</td>\n",
              "      <td>4.0</td>\n",
              "      <td>4.0</td>\n",
              "      <td>c(\"Toss 2 cups berries with sugar.\", \"Let stan...</td>\n",
              "    </tr>\n",
              "    <tr>\n",
              "      <th>1</th>\n",
              "      <td>39</td>\n",
              "      <td>Biryani</td>\n",
              "      <td>1567</td>\n",
              "      <td>elly9812</td>\n",
              "      <td>PT25M</td>\n",
              "      <td>PT4H</td>\n",
              "      <td>Make and share this Biryani recipe from Food.com.</td>\n",
              "      <td>c(\"https://img.sndimg.com/food/image/upload/w_...</td>\n",
              "      <td>Chicken Breast</td>\n",
              "      <td>c(\"Chicken Thigh &amp; Leg\", \"Chicken\", \"Poultry\",...</td>\n",
              "      <td>c(\"1\", \"4\", \"2\", \"2\", \"8\", \"1/4\", \"8\", \"1/2\", ...</td>\n",
              "      <td>c(\"saffron\", \"milk\", \"hot green chili peppers\"...</td>\n",
              "      <td>3.0</td>\n",
              "      <td>1.0</td>\n",
              "      <td>6.0</td>\n",
              "      <td>c(\"Soak saffron in warm milk for 5 minutes and...</td>\n",
              "    </tr>\n",
              "  </tbody>\n",
              "</table>\n",
              "</div>\n",
              "      <button class=\"colab-df-convert\" onclick=\"convertToInteractive('df-c300599a-7d96-484c-be09-a93d35cf4b3c')\"\n",
              "              title=\"Convert this dataframe to an interactive table.\"\n",
              "              style=\"display:none;\">\n",
              "        \n",
              "  <svg xmlns=\"http://www.w3.org/2000/svg\" height=\"24px\"viewBox=\"0 0 24 24\"\n",
              "       width=\"24px\">\n",
              "    <path d=\"M0 0h24v24H0V0z\" fill=\"none\"/>\n",
              "    <path d=\"M18.56 5.44l.94 2.06.94-2.06 2.06-.94-2.06-.94-.94-2.06-.94 2.06-2.06.94zm-11 1L8.5 8.5l.94-2.06 2.06-.94-2.06-.94L8.5 2.5l-.94 2.06-2.06.94zm10 10l.94 2.06.94-2.06 2.06-.94-2.06-.94-.94-2.06-.94 2.06-2.06.94z\"/><path d=\"M17.41 7.96l-1.37-1.37c-.4-.4-.92-.59-1.43-.59-.52 0-1.04.2-1.43.59L10.3 9.45l-7.72 7.72c-.78.78-.78 2.05 0 2.83L4 21.41c.39.39.9.59 1.41.59.51 0 1.02-.2 1.41-.59l7.78-7.78 2.81-2.81c.8-.78.8-2.07 0-2.86zM5.41 20L4 18.59l7.72-7.72 1.47 1.35L5.41 20z\"/>\n",
              "  </svg>\n",
              "      </button>\n",
              "      \n",
              "  <style>\n",
              "    .colab-df-container {\n",
              "      display:flex;\n",
              "      flex-wrap:wrap;\n",
              "      gap: 12px;\n",
              "    }\n",
              "\n",
              "    .colab-df-convert {\n",
              "      background-color: #E8F0FE;\n",
              "      border: none;\n",
              "      border-radius: 50%;\n",
              "      cursor: pointer;\n",
              "      display: none;\n",
              "      fill: #1967D2;\n",
              "      height: 32px;\n",
              "      padding: 0 0 0 0;\n",
              "      width: 32px;\n",
              "    }\n",
              "\n",
              "    .colab-df-convert:hover {\n",
              "      background-color: #E2EBFA;\n",
              "      box-shadow: 0px 1px 2px rgba(60, 64, 67, 0.3), 0px 1px 3px 1px rgba(60, 64, 67, 0.15);\n",
              "      fill: #174EA6;\n",
              "    }\n",
              "\n",
              "    [theme=dark] .colab-df-convert {\n",
              "      background-color: #3B4455;\n",
              "      fill: #D2E3FC;\n",
              "    }\n",
              "\n",
              "    [theme=dark] .colab-df-convert:hover {\n",
              "      background-color: #434B5C;\n",
              "      box-shadow: 0px 1px 3px 1px rgba(0, 0, 0, 0.15);\n",
              "      filter: drop-shadow(0px 1px 2px rgba(0, 0, 0, 0.3));\n",
              "      fill: #FFFFFF;\n",
              "    }\n",
              "  </style>\n",
              "\n",
              "      <script>\n",
              "        const buttonEl =\n",
              "          document.querySelector('#df-c300599a-7d96-484c-be09-a93d35cf4b3c button.colab-df-convert');\n",
              "        buttonEl.style.display =\n",
              "          google.colab.kernel.accessAllowed ? 'block' : 'none';\n",
              "\n",
              "        async function convertToInteractive(key) {\n",
              "          const element = document.querySelector('#df-c300599a-7d96-484c-be09-a93d35cf4b3c');\n",
              "          const dataTable =\n",
              "            await google.colab.kernel.invokeFunction('convertToInteractive',\n",
              "                                                     [key], {});\n",
              "          if (!dataTable) return;\n",
              "\n",
              "          const docLinkHtml = 'Like what you see? Visit the ' +\n",
              "            '<a target=\"_blank\" href=https://colab.research.google.com/notebooks/data_table.ipynb>data table notebook</a>'\n",
              "            + ' to learn more about interactive tables.';\n",
              "          element.innerHTML = '';\n",
              "          dataTable['output_type'] = 'display_data';\n",
              "          await google.colab.output.renderOutput(dataTable, element);\n",
              "          const docLink = document.createElement('div');\n",
              "          docLink.innerHTML = docLinkHtml;\n",
              "          element.appendChild(docLink);\n",
              "        }\n",
              "      </script>\n",
              "    </div>\n",
              "  </div>\n",
              "  "
            ]
          },
          "metadata": {},
          "execution_count": 142
        }
      ]
    },
    {
      "cell_type": "code",
      "source": [
        "reviews.head(2)"
      ],
      "metadata": {
        "colab": {
          "base_uri": "https://localhost:8080/",
          "height": 112
        },
        "id": "W7GZslyaiprl",
        "outputId": "74521025-6454-45d7-b9f0-4a9005629ed9"
      },
      "execution_count": null,
      "outputs": [
        {
          "output_type": "execute_result",
          "data": {
            "text/plain": [
              "   ReviewId  RecipeId  AuthorId     AuthorName  Rating  \\\n",
              "0         2       992      2008      gayg msft       5   \n",
              "1         7      4384      1634  Bill Hilbrich       4   \n",
              "\n",
              "                                              Review  \n",
              "0       better than any you can get at a restaurant!  \n",
              "1  I cut back on the mayo, and made up the differ...  "
            ],
            "text/html": [
              "\n",
              "  <div id=\"df-acdde9b9-b35a-48fc-844d-e189af37048b\">\n",
              "    <div class=\"colab-df-container\">\n",
              "      <div>\n",
              "<style scoped>\n",
              "    .dataframe tbody tr th:only-of-type {\n",
              "        vertical-align: middle;\n",
              "    }\n",
              "\n",
              "    .dataframe tbody tr th {\n",
              "        vertical-align: top;\n",
              "    }\n",
              "\n",
              "    .dataframe thead th {\n",
              "        text-align: right;\n",
              "    }\n",
              "</style>\n",
              "<table border=\"1\" class=\"dataframe\">\n",
              "  <thead>\n",
              "    <tr style=\"text-align: right;\">\n",
              "      <th></th>\n",
              "      <th>ReviewId</th>\n",
              "      <th>RecipeId</th>\n",
              "      <th>AuthorId</th>\n",
              "      <th>AuthorName</th>\n",
              "      <th>Rating</th>\n",
              "      <th>Review</th>\n",
              "    </tr>\n",
              "  </thead>\n",
              "  <tbody>\n",
              "    <tr>\n",
              "      <th>0</th>\n",
              "      <td>2</td>\n",
              "      <td>992</td>\n",
              "      <td>2008</td>\n",
              "      <td>gayg msft</td>\n",
              "      <td>5</td>\n",
              "      <td>better than any you can get at a restaurant!</td>\n",
              "    </tr>\n",
              "    <tr>\n",
              "      <th>1</th>\n",
              "      <td>7</td>\n",
              "      <td>4384</td>\n",
              "      <td>1634</td>\n",
              "      <td>Bill Hilbrich</td>\n",
              "      <td>4</td>\n",
              "      <td>I cut back on the mayo, and made up the differ...</td>\n",
              "    </tr>\n",
              "  </tbody>\n",
              "</table>\n",
              "</div>\n",
              "      <button class=\"colab-df-convert\" onclick=\"convertToInteractive('df-acdde9b9-b35a-48fc-844d-e189af37048b')\"\n",
              "              title=\"Convert this dataframe to an interactive table.\"\n",
              "              style=\"display:none;\">\n",
              "        \n",
              "  <svg xmlns=\"http://www.w3.org/2000/svg\" height=\"24px\"viewBox=\"0 0 24 24\"\n",
              "       width=\"24px\">\n",
              "    <path d=\"M0 0h24v24H0V0z\" fill=\"none\"/>\n",
              "    <path d=\"M18.56 5.44l.94 2.06.94-2.06 2.06-.94-2.06-.94-.94-2.06-.94 2.06-2.06.94zm-11 1L8.5 8.5l.94-2.06 2.06-.94-2.06-.94L8.5 2.5l-.94 2.06-2.06.94zm10 10l.94 2.06.94-2.06 2.06-.94-2.06-.94-.94-2.06-.94 2.06-2.06.94z\"/><path d=\"M17.41 7.96l-1.37-1.37c-.4-.4-.92-.59-1.43-.59-.52 0-1.04.2-1.43.59L10.3 9.45l-7.72 7.72c-.78.78-.78 2.05 0 2.83L4 21.41c.39.39.9.59 1.41.59.51 0 1.02-.2 1.41-.59l7.78-7.78 2.81-2.81c.8-.78.8-2.07 0-2.86zM5.41 20L4 18.59l7.72-7.72 1.47 1.35L5.41 20z\"/>\n",
              "  </svg>\n",
              "      </button>\n",
              "      \n",
              "  <style>\n",
              "    .colab-df-container {\n",
              "      display:flex;\n",
              "      flex-wrap:wrap;\n",
              "      gap: 12px;\n",
              "    }\n",
              "\n",
              "    .colab-df-convert {\n",
              "      background-color: #E8F0FE;\n",
              "      border: none;\n",
              "      border-radius: 50%;\n",
              "      cursor: pointer;\n",
              "      display: none;\n",
              "      fill: #1967D2;\n",
              "      height: 32px;\n",
              "      padding: 0 0 0 0;\n",
              "      width: 32px;\n",
              "    }\n",
              "\n",
              "    .colab-df-convert:hover {\n",
              "      background-color: #E2EBFA;\n",
              "      box-shadow: 0px 1px 2px rgba(60, 64, 67, 0.3), 0px 1px 3px 1px rgba(60, 64, 67, 0.15);\n",
              "      fill: #174EA6;\n",
              "    }\n",
              "\n",
              "    [theme=dark] .colab-df-convert {\n",
              "      background-color: #3B4455;\n",
              "      fill: #D2E3FC;\n",
              "    }\n",
              "\n",
              "    [theme=dark] .colab-df-convert:hover {\n",
              "      background-color: #434B5C;\n",
              "      box-shadow: 0px 1px 3px 1px rgba(0, 0, 0, 0.15);\n",
              "      filter: drop-shadow(0px 1px 2px rgba(0, 0, 0, 0.3));\n",
              "      fill: #FFFFFF;\n",
              "    }\n",
              "  </style>\n",
              "\n",
              "      <script>\n",
              "        const buttonEl =\n",
              "          document.querySelector('#df-acdde9b9-b35a-48fc-844d-e189af37048b button.colab-df-convert');\n",
              "        buttonEl.style.display =\n",
              "          google.colab.kernel.accessAllowed ? 'block' : 'none';\n",
              "\n",
              "        async function convertToInteractive(key) {\n",
              "          const element = document.querySelector('#df-acdde9b9-b35a-48fc-844d-e189af37048b');\n",
              "          const dataTable =\n",
              "            await google.colab.kernel.invokeFunction('convertToInteractive',\n",
              "                                                     [key], {});\n",
              "          if (!dataTable) return;\n",
              "\n",
              "          const docLinkHtml = 'Like what you see? Visit the ' +\n",
              "            '<a target=\"_blank\" href=https://colab.research.google.com/notebooks/data_table.ipynb>data table notebook</a>'\n",
              "            + ' to learn more about interactive tables.';\n",
              "          element.innerHTML = '';\n",
              "          dataTable['output_type'] = 'display_data';\n",
              "          await google.colab.output.renderOutput(dataTable, element);\n",
              "          const docLink = document.createElement('div');\n",
              "          docLink.innerHTML = docLinkHtml;\n",
              "          element.appendChild(docLink);\n",
              "        }\n",
              "      </script>\n",
              "    </div>\n",
              "  </div>\n",
              "  "
            ]
          },
          "metadata": {},
          "execution_count": 111
        }
      ]
    },
    {
      "cell_type": "markdown",
      "source": [
        "All set. Time for some Data Pre-processing!"
      ],
      "metadata": {
        "id": "Ps0cgiqxitm-"
      }
    },
    {
      "cell_type": "code",
      "source": [
        "# Check for null elements\n",
        "recipes.info()"
      ],
      "metadata": {
        "colab": {
          "base_uri": "https://localhost:8080/"
        },
        "id": "XllWC6ksi9LH",
        "outputId": "65e25ef3-9ca7-4667-f74c-eb4cc4254041"
      },
      "execution_count": null,
      "outputs": [
        {
          "output_type": "stream",
          "name": "stdout",
          "text": [
            "<class 'pandas.core.frame.DataFrame'>\n",
            "RangeIndex: 522517 entries, 0 to 522516\n",
            "Data columns (total 28 columns):\n",
            " #   Column                      Non-Null Count   Dtype  \n",
            "---  ------                      --------------   -----  \n",
            " 0   RecipeId                    522517 non-null  int64  \n",
            " 1   Name                        522517 non-null  object \n",
            " 2   AuthorId                    522517 non-null  int64  \n",
            " 3   AuthorName                  522517 non-null  object \n",
            " 4   CookTime                    439972 non-null  object \n",
            " 5   PrepTime                    522517 non-null  object \n",
            " 6   TotalTime                   522517 non-null  object \n",
            " 7   DatePublished               522517 non-null  object \n",
            " 8   Description                 522512 non-null  object \n",
            " 9   Images                      522516 non-null  object \n",
            " 10  RecipeCategory              521766 non-null  object \n",
            " 11  Keywords                    505280 non-null  object \n",
            " 12  RecipeIngredientQuantities  522514 non-null  object \n",
            " 13  RecipeIngredientParts       522517 non-null  object \n",
            " 14  AggregatedRating            269294 non-null  float64\n",
            " 15  ReviewCount                 275028 non-null  float64\n",
            " 16  Calories                    522517 non-null  float64\n",
            " 17  FatContent                  522517 non-null  float64\n",
            " 18  SaturatedFatContent         522517 non-null  float64\n",
            " 19  CholesterolContent          522517 non-null  float64\n",
            " 20  SodiumContent               522517 non-null  float64\n",
            " 21  CarbohydrateContent         522517 non-null  float64\n",
            " 22  FiberContent                522517 non-null  float64\n",
            " 23  SugarContent                522517 non-null  float64\n",
            " 24  ProteinContent              522517 non-null  float64\n",
            " 25  RecipeServings              339606 non-null  float64\n",
            " 26  RecipeYield                 174446 non-null  object \n",
            " 27  RecipeInstructions          522517 non-null  object \n",
            "dtypes: float64(12), int64(2), object(14)\n",
            "memory usage: 111.6+ MB\n"
          ]
        }
      ]
    },
    {
      "cell_type": "code",
      "source": [
        "recipes.RecipeId.min()"
      ],
      "metadata": {
        "colab": {
          "base_uri": "https://localhost:8080/"
        },
        "id": "cWr6Y796mq9P",
        "outputId": "601cd266-1965-4547-8f36-34beee6a0192"
      },
      "execution_count": null,
      "outputs": [
        {
          "output_type": "execute_result",
          "data": {
            "text/plain": [
              "38"
            ]
          },
          "metadata": {},
          "execution_count": 159
        }
      ]
    },
    {
      "cell_type": "code",
      "source": [
        "recipes.RecipeId.max()\n",
        "# 541383"
      ],
      "metadata": {
        "colab": {
          "base_uri": "https://localhost:8080/"
        },
        "id": "neibTHjOmvhF",
        "outputId": "ac321c49-988b-4888-ceed-6f90fbcb872b"
      },
      "execution_count": null,
      "outputs": [
        {
          "output_type": "execute_result",
          "data": {
            "text/plain": [
              "541383"
            ]
          },
          "metadata": {},
          "execution_count": 163
        }
      ]
    },
    {
      "cell_type": "code",
      "source": [
        "recipes.AuthorId.min()"
      ],
      "metadata": {
        "colab": {
          "base_uri": "https://localhost:8080/"
        },
        "id": "pf-89tj7m4fk",
        "outputId": "c886aa13-f834-4c29-cb73-63553ba5976d"
      },
      "execution_count": null,
      "outputs": [
        {
          "output_type": "execute_result",
          "data": {
            "text/plain": [
              "27"
            ]
          },
          "metadata": {},
          "execution_count": 115
        }
      ]
    },
    {
      "cell_type": "code",
      "source": [
        "recipes.AuthorId.max()\n",
        "# 2001112113, 27"
      ],
      "metadata": {
        "colab": {
          "base_uri": "https://localhost:8080/"
        },
        "id": "jofpFN__m-ba",
        "outputId": "0cc3929b-1237-4e87-b2a0-a949480f063f"
      },
      "execution_count": null,
      "outputs": [
        {
          "output_type": "execute_result",
          "data": {
            "text/plain": [
              "2001112113"
            ]
          },
          "metadata": {},
          "execution_count": 116
        }
      ]
    },
    {
      "cell_type": "markdown",
      "source": [
        "Seeing the Memory usage for the recipes DataFrame, I think that there's a need of optimizing the memory. For RecipeId, we have the min and max value of 38 and 181170 respectively. And the datatype is int64, hence, memory is too much for the data available. So, we can cut it down to int32 as then too, our data would fit sufficiently in the range (-2,147,483,648 to +2,147,483,647). Not doing so for the AuthorId column as it is still a borderline case. "
      ],
      "metadata": {
        "id": "_wcn5Bk1seDF"
      }
    },
    {
      "cell_type": "code",
      "source": [
        "# Changing the datatype of RecipeId from int64 to int32\n",
        "recipes[['RecipeId']] = recipes[['RecipeId']].apply(pd.to_numeric, downcast = 'integer')"
      ],
      "metadata": {
        "id": "s5oq_iiutFua"
      },
      "execution_count": null,
      "outputs": []
    },
    {
      "cell_type": "code",
      "source": [
        ""
      ],
      "metadata": {
        "id": "cQewQ3zGyhJF"
      },
      "execution_count": null,
      "outputs": []
    },
    {
      "cell_type": "code",
      "source": [
        "recipes.info()"
      ],
      "metadata": {
        "colab": {
          "base_uri": "https://localhost:8080/"
        },
        "id": "HDLVYuq7tdGV",
        "outputId": "60eebb7c-074b-4517-8a24-46e3855a286d"
      },
      "execution_count": null,
      "outputs": [
        {
          "output_type": "stream",
          "name": "stdout",
          "text": [
            "<class 'pandas.core.frame.DataFrame'>\n",
            "RangeIndex: 522517 entries, 0 to 522516\n",
            "Data columns (total 16 columns):\n",
            " #   Column                      Non-Null Count   Dtype  \n",
            "---  ------                      --------------   -----  \n",
            " 0   RecipeId                    522517 non-null  int32  \n",
            " 1   Name                        522517 non-null  object \n",
            " 2   AuthorId                    522517 non-null  int64  \n",
            " 3   AuthorName                  522517 non-null  object \n",
            " 4   CookTime                    439972 non-null  object \n",
            " 5   PrepTime                    522517 non-null  object \n",
            " 6   Description                 522512 non-null  object \n",
            " 7   Images                      522516 non-null  object \n",
            " 8   RecipeCategory              521766 non-null  object \n",
            " 9   Keywords                    505280 non-null  object \n",
            " 10  RecipeIngredientQuantities  522514 non-null  object \n",
            " 11  RecipeIngredientParts       522517 non-null  object \n",
            " 12  AggregatedRating            269294 non-null  float64\n",
            " 13  ReviewCount                 275028 non-null  float64\n",
            " 14  RecipeServings              339606 non-null  float64\n",
            " 15  RecipeInstructions          522517 non-null  object \n",
            "dtypes: float64(3), int32(1), int64(1), object(11)\n",
            "memory usage: 61.8+ MB\n"
          ]
        }
      ]
    },
    {
      "cell_type": "code",
      "source": [
        "recipes['AggregatedRating'].value_counts()"
      ],
      "metadata": {
        "colab": {
          "base_uri": "https://localhost:8080/"
        },
        "id": "Wo7HuK-i0idf",
        "outputId": "2abad96b-893a-4d6c-f251-a2e408a914f5"
      },
      "execution_count": 174,
      "outputs": [
        {
          "output_type": "execute_result",
          "data": {
            "text/plain": [
              "5.0    1910\n",
              "4.0     685\n",
              "4.5     668\n",
              "3.0     205\n",
              "3.5     108\n",
              "2.0      43\n",
              "1.0      33\n",
              "2.5      19\n",
              "1.5       2\n",
              "Name: AggregatedRating, dtype: int64"
            ]
          },
          "metadata": {},
          "execution_count": 174
        }
      ]
    },
    {
      "cell_type": "code",
      "source": [
        "recipes['ReviewCount'].value_counts()"
      ],
      "metadata": {
        "colab": {
          "base_uri": "https://localhost:8080/"
        },
        "id": "jMdb4Bt4zjJ_",
        "outputId": "d6b96abd-9ae8-4cda-948b-c55c3ad0d5ab"
      },
      "execution_count": 167,
      "outputs": [
        {
          "output_type": "execute_result",
          "data": {
            "text/plain": [
              "1.0      1040\n",
              "2.0       654\n",
              "3.0       408\n",
              "4.0       298\n",
              "5.0       211\n",
              "         ... \n",
              "151.0       1\n",
              "203.0       1\n",
              "107.0       1\n",
              "139.0       1\n",
              "174.0       1\n",
              "Name: ReviewCount, Length: 119, dtype: int64"
            ]
          },
          "metadata": {},
          "execution_count": 167
        }
      ]
    },
    {
      "cell_type": "code",
      "source": [
        "recipes['RecipeServings'].value_counts()"
      ],
      "metadata": {
        "id": "B593gFzZz7SD"
      },
      "execution_count": null,
      "outputs": []
    },
    {
      "cell_type": "code",
      "source": [
        "recipes['RecipeServings'].min()"
      ],
      "metadata": {
        "colab": {
          "base_uri": "https://localhost:8080/"
        },
        "id": "bfv7bINR0FVW",
        "outputId": "1e4f9582-dc23-4b89-c47b-42b4853ab7da"
      },
      "execution_count": 170,
      "outputs": [
        {
          "output_type": "execute_result",
          "data": {
            "text/plain": [
              "1.0"
            ]
          },
          "metadata": {},
          "execution_count": 170
        }
      ]
    },
    {
      "cell_type": "code",
      "source": [
        "recipes['RecipeServings'].max()"
      ],
      "metadata": {
        "colab": {
          "base_uri": "https://localhost:8080/"
        },
        "id": "5PZwuZ9F0MfL",
        "outputId": "206f69f1-5325-493b-d2b7-c54323f33b5f"
      },
      "execution_count": 171,
      "outputs": [
        {
          "output_type": "execute_result",
          "data": {
            "text/plain": [
              "480.0"
            ]
          },
          "metadata": {},
          "execution_count": 171
        }
      ]
    },
    {
      "cell_type": "code",
      "source": [
        ""
      ],
      "metadata": {
        "id": "D71L6jer0hEq"
      },
      "execution_count": null,
      "outputs": []
    },
    {
      "cell_type": "code",
      "source": [
        "# Columns that can be downcasted\n",
        "# RecipeServings\n",
        "# ReviewCount\n",
        "# AggregatedRating"
      ],
      "metadata": {
        "id": "0teqwzFS0VvK"
      },
      "execution_count": 173,
      "outputs": []
    }
  ]
}